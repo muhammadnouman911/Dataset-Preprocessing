{
  "nbformat": 4,
  "nbformat_minor": 0,
  "metadata": {
    "colab": {
      "provenance": [],
      "mount_file_id": "16ZHcF_TFaRjzLJCM8ZgjpYt7rH9nrmzC",
      "authorship_tag": "ABX9TyPdko1NvOYYm2T4qece1VJR",
      "include_colab_link": true
    },
    "kernelspec": {
      "name": "python3",
      "display_name": "Python 3"
    },
    "language_info": {
      "name": "python"
    }
  },
  "cells": [
    {
      "cell_type": "markdown",
      "metadata": {
        "id": "view-in-github",
        "colab_type": "text"
      },
      "source": [
        "<a href=\"https://colab.research.google.com/github/muhammadnouman911/Dataset-Preprocessing/blob/main/Untitled3.ipynb\" target=\"_parent\"><img src=\"https://colab.research.google.com/assets/colab-badge.svg\" alt=\"Open In Colab\"/></a>"
      ]
    },
    {
      "cell_type": "code",
      "execution_count": null,
      "metadata": {
        "colab": {
          "base_uri": "https://localhost:8080/"
        },
        "id": "2cW0JujXtGKv",
        "outputId": "ed002612-e3d0-46f9-d97a-1667b17c641c"
      },
      "outputs": [
        {
          "output_type": "stream",
          "name": "stdout",
          "text": [
            "Collecting yt-dlp\n",
            "  Downloading yt_dlp-2025.8.11-py3-none-any.whl.metadata (175 kB)\n",
            "\u001b[?25l     \u001b[90m━━━━━━━━━━━━━━━━━━━━━━━━━━━━━━━━━━━━━━━━\u001b[0m \u001b[32m0.0/175.5 kB\u001b[0m \u001b[31m?\u001b[0m eta \u001b[36m-:--:--\u001b[0m\r\u001b[2K     \u001b[90m━━━━━━━━━━━━━━━━━━━━━━━━━━━━━━━━━━━━━━━\u001b[0m \u001b[32m175.5/175.5 kB\u001b[0m \u001b[31m9.8 MB/s\u001b[0m eta \u001b[36m0:00:00\u001b[0m\n",
            "\u001b[?25hCollecting ffmpeg-python\n",
            "  Downloading ffmpeg_python-0.2.0-py3-none-any.whl.metadata (1.7 kB)\n",
            "Requirement already satisfied: pandas in /usr/local/lib/python3.11/dist-packages (2.2.2)\n",
            "Requirement already satisfied: opencv-python in /usr/local/lib/python3.11/dist-packages (4.12.0.88)\n",
            "Requirement already satisfied: future in /usr/local/lib/python3.11/dist-packages (from ffmpeg-python) (1.0.0)\n",
            "Requirement already satisfied: numpy>=1.23.2 in /usr/local/lib/python3.11/dist-packages (from pandas) (2.0.2)\n",
            "Requirement already satisfied: python-dateutil>=2.8.2 in /usr/local/lib/python3.11/dist-packages (from pandas) (2.9.0.post0)\n",
            "Requirement already satisfied: pytz>=2020.1 in /usr/local/lib/python3.11/dist-packages (from pandas) (2025.2)\n",
            "Requirement already satisfied: tzdata>=2022.7 in /usr/local/lib/python3.11/dist-packages (from pandas) (2025.2)\n",
            "Requirement already satisfied: six>=1.5 in /usr/local/lib/python3.11/dist-packages (from python-dateutil>=2.8.2->pandas) (1.17.0)\n",
            "Downloading yt_dlp-2025.8.11-py3-none-any.whl (3.3 MB)\n",
            "\u001b[2K   \u001b[90m━━━━━━━━━━━━━━━━━━━━━━━━━━━━━━━━━━━━━━━━\u001b[0m \u001b[32m3.3/3.3 MB\u001b[0m \u001b[31m47.5 MB/s\u001b[0m eta \u001b[36m0:00:00\u001b[0m\n",
            "\u001b[?25hDownloading ffmpeg_python-0.2.0-py3-none-any.whl (25 kB)\n",
            "Installing collected packages: yt-dlp, ffmpeg-python\n",
            "Successfully installed ffmpeg-python-0.2.0 yt-dlp-2025.8.11\n"
          ]
        }
      ],
      "source": [
        "# Step 1: Install Dependencies\n",
        "!pip install yt-dlp ffmpeg-python pandas opencv-python\n"
      ]
    },
    {
      "cell_type": "code",
      "source": [
        "import os\n",
        "import cv2\n",
        "import pandas as pd\n",
        "import subprocess\n",
        "from pathlib import Path\n"
      ],
      "metadata": {
        "id": "R26S-HNotKA-"
      },
      "execution_count": null,
      "outputs": []
    },
    {
      "cell_type": "code",
      "source": [
        "# Step 2: Define Directories\n",
        "BASE_DIR = Path(\"/content/drive/MyDrive/Dataset Processing\")\n",
        "VIDEOS_DIR = BASE_DIR / \"videos\"\n",
        "BASE_DIR.mkdir(exist_ok=True)\n",
        "VIDEOS_DIR.mkdir(exist_ok=True)"
      ],
      "metadata": {
        "id": "yayc-VOWtLeZ"
      },
      "execution_count": null,
      "outputs": []
    },
    {
      "cell_type": "code",
      "source": [
        "# Step 3: Helper Functions\n",
        "\n",
        "def download_and_trim(video_id, start, end, out_path):\n",
        "    \"\"\"Download YouTube video and trim to required segment using ffmpeg.\"\"\"\n",
        "    url = f\"https://www.youtube.com/watch?v={video_id}\"\n",
        "    temp_path = f\"temp_{video_id}.mp4\"\n",
        "\n",
        "    # Download best quality\n",
        "    subprocess.run([\n",
        "        \"yt-dlp\", \"-f\", \"bestvideo+bestaudio/best\",\n",
        "        \"-o\", temp_path, url\n",
        "    ])\n",
        "\n",
        "    # Trim segment\n",
        "    subprocess.run([\n",
        "        \"ffmpeg\", \"-y\", \"-i\", temp_path,\n",
        "        \"-ss\", str(start), \"-to\", str(end),\n",
        "        \"-c:v\", \"libx264\", \"-c:a\", \"aac\", out_path\n",
        "    ])\n",
        "\n",
        "    # Remove temp full video\n",
        "    os.remove(temp_path)\n",
        "\n",
        "def extract_audio(video_path, audio_path):\n",
        "    \"\"\"Extract audio track from video.\"\"\"\n",
        "    subprocess.run([\n",
        "        \"ffmpeg\", \"-y\", \"-i\", video_path,\n",
        "        \"-q:a\", \"0\", \"-map\", \"a\", audio_path\n",
        "    ])\n",
        "\n",
        "def extract_face(video_path, x, y, w, h, face_path):\n",
        "    \"\"\"Extract one frame (middle) and crop face using given coordinates.\"\"\"\n",
        "    cap = cv2.VideoCapture(str(video_path))\n",
        "    frame_count = int(cap.get(cv2.CAP_PROP_FRAME_COUNT))\n",
        "    mid_frame = frame_count // 2\n",
        "\n",
        "    cap.set(cv2.CAP_PROP_POS_FRAMES, mid_frame)\n",
        "    ret, frame = cap.read()\n",
        "    cap.release()\n",
        "\n",
        "    if not ret:\n",
        "        print(f\"Could not read frame from {video_path}\")\n",
        "        return\n",
        "\n",
        "    # Crop using provided coordinates\n",
        "    face = frame[y:y+h, x:x+w]\n",
        "    cv2.imwrite(str(face_path), face)"
      ],
      "metadata": {
        "id": "GJYFwadztOEO"
      },
      "execution_count": null,
      "outputs": []
    },
    {
      "cell_type": "code",
      "source": [
        "# Step 4: Main Processing Function\n",
        "\n",
        "def process_csv(csv_file):\n",
        "    df = pd.read_csv(csv_file)\n",
        "\n",
        "    for idx, row in df.iterrows():\n",
        "        folder_name = f\"A{idx+1}\"\n",
        "        out_dir = BASE_DIR / folder_name\n",
        "        out_dir.mkdir(exist_ok=True)\n",
        "\n",
        "        # Define paths\n",
        "        video_out = VIDEOS_DIR / f\"{folder_name}.mp4\"\n",
        "        audio_out = out_dir / \"audio.wav\"\n",
        "        face_out = out_dir / \"face.jpg\"\n",
        "\n",
        "        # Download and process\n",
        "        print(f\"Processing {row['video_id']} -> {folder_name}\")\n",
        "        download_and_trim(row['video_id'], row['start'], row['end'], str(video_out))\n",
        "        extract_audio(str(video_out), str(audio_out))\n",
        "        extract_face(str(video_out), int(row['x']), int(row['y']), int(row['width']), int(row['height']), str(face_out))\n",
        "\n",
        "    print(\"\\n✅ Dataset creation complete!\")"
      ],
      "metadata": {
        "id": "vWBE1GHetQ-8"
      },
      "execution_count": null,
      "outputs": []
    },
    {
      "cell_type": "code",
      "source": [],
      "metadata": {
        "id": "LweWvw1ptVJv"
      },
      "execution_count": null,
      "outputs": []
    }
  ]
}