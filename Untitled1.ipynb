{
  "nbformat": 4,
  "nbformat_minor": 0,
  "metadata": {
    "colab": {
      "provenance": [],
      "gpuType": "T4",
      "mount_file_id": "1PZgLeRcLKjo-Z3qGzXqKfk0SzlPQRcgz",
      "authorship_tag": "ABX9TyNRLAsoBtvFJ3MMzW92931R",
      "include_colab_link": true
    },
    "kernelspec": {
      "name": "python3",
      "display_name": "Python 3"
    },
    "language_info": {
      "name": "python"
    },
    "accelerator": "GPU"
  },
  "cells": [
    {
      "cell_type": "markdown",
      "metadata": {
        "id": "view-in-github",
        "colab_type": "text"
      },
      "source": [
        "<a href=\"https://colab.research.google.com/github/muhammadnouman911/Dataset-Preprocessing/blob/main/Untitled1.ipynb\" target=\"_parent\"><img src=\"https://colab.research.google.com/assets/colab-badge.svg\" alt=\"Open In Colab\"/></a>"
      ]
    },
    {
      "cell_type": "code",
      "source": [
        "from google.colab import files\n",
        "import pandas as pd\n",
        "\n",
        "# Upload XLSX file\n",
        "uploaded = files.upload()\n",
        "\n",
        "# Convert to CSV\n",
        "excel_file = list(uploaded.keys())[0]\n",
        "df = pd.read_excel(excel_file)\n",
        "csv_file = 'data.csv'\n",
        "df.to_csv(csv_file, index=False)\n",
        "print(\"✅ Excel converted to CSV\")\n"
      ],
      "metadata": {
        "colab": {
          "base_uri": "https://localhost:8080/",
          "height": 90
        },
        "id": "9OSLiCiPQpDd",
        "outputId": "bcb6f542-04a1-488a-d69f-ec4b66faafa3"
      },
      "execution_count": null,
      "outputs": [
        {
          "output_type": "display_data",
          "data": {
            "text/plain": [
              "<IPython.core.display.HTML object>"
            ],
            "text/html": [
              "\n",
              "     <input type=\"file\" id=\"files-10e7f6ff-b110-44dd-b6d2-9b3b70e1181a\" name=\"files[]\" multiple disabled\n",
              "        style=\"border:none\" />\n",
              "     <output id=\"result-10e7f6ff-b110-44dd-b6d2-9b3b70e1181a\">\n",
              "      Upload widget is only available when the cell has been executed in the\n",
              "      current browser session. Please rerun this cell to enable.\n",
              "      </output>\n",
              "      <script>// Copyright 2017 Google LLC\n",
              "//\n",
              "// Licensed under the Apache License, Version 2.0 (the \"License\");\n",
              "// you may not use this file except in compliance with the License.\n",
              "// You may obtain a copy of the License at\n",
              "//\n",
              "//      http://www.apache.org/licenses/LICENSE-2.0\n",
              "//\n",
              "// Unless required by applicable law or agreed to in writing, software\n",
              "// distributed under the License is distributed on an \"AS IS\" BASIS,\n",
              "// WITHOUT WARRANTIES OR CONDITIONS OF ANY KIND, either express or implied.\n",
              "// See the License for the specific language governing permissions and\n",
              "// limitations under the License.\n",
              "\n",
              "/**\n",
              " * @fileoverview Helpers for google.colab Python module.\n",
              " */\n",
              "(function(scope) {\n",
              "function span(text, styleAttributes = {}) {\n",
              "  const element = document.createElement('span');\n",
              "  element.textContent = text;\n",
              "  for (const key of Object.keys(styleAttributes)) {\n",
              "    element.style[key] = styleAttributes[key];\n",
              "  }\n",
              "  return element;\n",
              "}\n",
              "\n",
              "// Max number of bytes which will be uploaded at a time.\n",
              "const MAX_PAYLOAD_SIZE = 100 * 1024;\n",
              "\n",
              "function _uploadFiles(inputId, outputId) {\n",
              "  const steps = uploadFilesStep(inputId, outputId);\n",
              "  const outputElement = document.getElementById(outputId);\n",
              "  // Cache steps on the outputElement to make it available for the next call\n",
              "  // to uploadFilesContinue from Python.\n",
              "  outputElement.steps = steps;\n",
              "\n",
              "  return _uploadFilesContinue(outputId);\n",
              "}\n",
              "\n",
              "// This is roughly an async generator (not supported in the browser yet),\n",
              "// where there are multiple asynchronous steps and the Python side is going\n",
              "// to poll for completion of each step.\n",
              "// This uses a Promise to block the python side on completion of each step,\n",
              "// then passes the result of the previous step as the input to the next step.\n",
              "function _uploadFilesContinue(outputId) {\n",
              "  const outputElement = document.getElementById(outputId);\n",
              "  const steps = outputElement.steps;\n",
              "\n",
              "  const next = steps.next(outputElement.lastPromiseValue);\n",
              "  return Promise.resolve(next.value.promise).then((value) => {\n",
              "    // Cache the last promise value to make it available to the next\n",
              "    // step of the generator.\n",
              "    outputElement.lastPromiseValue = value;\n",
              "    return next.value.response;\n",
              "  });\n",
              "}\n",
              "\n",
              "/**\n",
              " * Generator function which is called between each async step of the upload\n",
              " * process.\n",
              " * @param {string} inputId Element ID of the input file picker element.\n",
              " * @param {string} outputId Element ID of the output display.\n",
              " * @return {!Iterable<!Object>} Iterable of next steps.\n",
              " */\n",
              "function* uploadFilesStep(inputId, outputId) {\n",
              "  const inputElement = document.getElementById(inputId);\n",
              "  inputElement.disabled = false;\n",
              "\n",
              "  const outputElement = document.getElementById(outputId);\n",
              "  outputElement.innerHTML = '';\n",
              "\n",
              "  const pickedPromise = new Promise((resolve) => {\n",
              "    inputElement.addEventListener('change', (e) => {\n",
              "      resolve(e.target.files);\n",
              "    });\n",
              "  });\n",
              "\n",
              "  const cancel = document.createElement('button');\n",
              "  inputElement.parentElement.appendChild(cancel);\n",
              "  cancel.textContent = 'Cancel upload';\n",
              "  const cancelPromise = new Promise((resolve) => {\n",
              "    cancel.onclick = () => {\n",
              "      resolve(null);\n",
              "    };\n",
              "  });\n",
              "\n",
              "  // Wait for the user to pick the files.\n",
              "  const files = yield {\n",
              "    promise: Promise.race([pickedPromise, cancelPromise]),\n",
              "    response: {\n",
              "      action: 'starting',\n",
              "    }\n",
              "  };\n",
              "\n",
              "  cancel.remove();\n",
              "\n",
              "  // Disable the input element since further picks are not allowed.\n",
              "  inputElement.disabled = true;\n",
              "\n",
              "  if (!files) {\n",
              "    return {\n",
              "      response: {\n",
              "        action: 'complete',\n",
              "      }\n",
              "    };\n",
              "  }\n",
              "\n",
              "  for (const file of files) {\n",
              "    const li = document.createElement('li');\n",
              "    li.append(span(file.name, {fontWeight: 'bold'}));\n",
              "    li.append(span(\n",
              "        `(${file.type || 'n/a'}) - ${file.size} bytes, ` +\n",
              "        `last modified: ${\n",
              "            file.lastModifiedDate ? file.lastModifiedDate.toLocaleDateString() :\n",
              "                                    'n/a'} - `));\n",
              "    const percent = span('0% done');\n",
              "    li.appendChild(percent);\n",
              "\n",
              "    outputElement.appendChild(li);\n",
              "\n",
              "    const fileDataPromise = new Promise((resolve) => {\n",
              "      const reader = new FileReader();\n",
              "      reader.onload = (e) => {\n",
              "        resolve(e.target.result);\n",
              "      };\n",
              "      reader.readAsArrayBuffer(file);\n",
              "    });\n",
              "    // Wait for the data to be ready.\n",
              "    let fileData = yield {\n",
              "      promise: fileDataPromise,\n",
              "      response: {\n",
              "        action: 'continue',\n",
              "      }\n",
              "    };\n",
              "\n",
              "    // Use a chunked sending to avoid message size limits. See b/62115660.\n",
              "    let position = 0;\n",
              "    do {\n",
              "      const length = Math.min(fileData.byteLength - position, MAX_PAYLOAD_SIZE);\n",
              "      const chunk = new Uint8Array(fileData, position, length);\n",
              "      position += length;\n",
              "\n",
              "      const base64 = btoa(String.fromCharCode.apply(null, chunk));\n",
              "      yield {\n",
              "        response: {\n",
              "          action: 'append',\n",
              "          file: file.name,\n",
              "          data: base64,\n",
              "        },\n",
              "      };\n",
              "\n",
              "      let percentDone = fileData.byteLength === 0 ?\n",
              "          100 :\n",
              "          Math.round((position / fileData.byteLength) * 100);\n",
              "      percent.textContent = `${percentDone}% done`;\n",
              "\n",
              "    } while (position < fileData.byteLength);\n",
              "  }\n",
              "\n",
              "  // All done.\n",
              "  yield {\n",
              "    response: {\n",
              "      action: 'complete',\n",
              "    }\n",
              "  };\n",
              "}\n",
              "\n",
              "scope.google = scope.google || {};\n",
              "scope.google.colab = scope.google.colab || {};\n",
              "scope.google.colab._files = {\n",
              "  _uploadFiles,\n",
              "  _uploadFilesContinue,\n",
              "};\n",
              "})(self);\n",
              "</script> "
            ]
          },
          "metadata": {}
        },
        {
          "output_type": "stream",
          "name": "stdout",
          "text": [
            "Saving Book1 (2).xlsx to Book1 (2) (1).xlsx\n",
            "✅ Excel converted to CSV\n"
          ]
        }
      ]
    },
    {
      "cell_type": "code",
      "source": [
        "!pip install yt-dlp ffmpeg-python tqdm"
      ],
      "metadata": {
        "colab": {
          "base_uri": "https://localhost:8080/"
        },
        "id": "xCf6YBj4Ilog",
        "outputId": "290025ce-e698-49e0-9e6f-25aea963ee98"
      },
      "execution_count": null,
      "outputs": [
        {
          "output_type": "stream",
          "name": "stdout",
          "text": [
            "Requirement already satisfied: yt-dlp in /usr/local/lib/python3.11/dist-packages (2025.8.11)\n",
            "Requirement already satisfied: ffmpeg-python in /usr/local/lib/python3.11/dist-packages (0.2.0)\n",
            "Requirement already satisfied: tqdm in /usr/local/lib/python3.11/dist-packages (4.67.1)\n",
            "Requirement already satisfied: future in /usr/local/lib/python3.11/dist-packages (from ffmpeg-python) (1.0.0)\n"
          ]
        }
      ]
    },
    {
      "cell_type": "code",
      "source": [
        "0import os\n",
        "import cv2\n",
        "import pandas as pd\n",
        "import yt_dlp\n",
        "import ffmpeg\n",
        "from tqdm import tqdm\n",
        "import time\n",
        "import shutil\n",
        "from multiprocessing import Pool, cpu_count\n",
        "import zipfile\n",
        "\n",
        "# --- Configuration ---\n",
        "CSV_PATH = \"/content/data.csv\"\n",
        "OUTPUT_DIR = \"dataset\"\n",
        "AUDIO_DIR = os.path.join(OUTPUT_DIR, \"audio\")\n",
        "VIDEO_DIR = os.path.join(OUTPUT_DIR, \"video\")\n",
        "FACE_DIR = os.path.join(OUTPUT_DIR, \"faces\")\n",
        "FULL_VIDEO_DIR = os.path.join(OUTPUT_DIR, \"full_videos\")\n",
        "COOKIES_FILE = \"cookies.txt\" if os.path.exists(\"cookies.txt\") else None\n",
        "LOG_FILE = \"failed_downloads.log\"\n",
        "MAX_RETRIES = 2\n",
        "PROXY = None  # \"socks5://127.0.0.1:1080\" if you need a proxy\n",
        "WORKERS = max(1, cpu_count() - 2)  # Use most CPUs but leave 2 free\n",
        "\n",
        "# Create directories\n",
        "os.makedirs(AUDIO_DIR, exist_ok=True)\n",
        "os.makedirs(VIDEO_DIR, exist_ok=True)\n",
        "os.makedirs(FULL_VIDEO_DIR, exist_ok=True)\n",
        "os.makedirs(FACE_DIR, exist_ok=True)\n",
        "\n",
        "# --- Initialize Logging ---\n",
        "def log_failure(youtube_id, reason):\n",
        "    with open(LOG_FILE, \"a\") as f:\n",
        "        f.write(f\"{youtube_id},{reason}\\n\")\n",
        "\n",
        "# --- Video Processing Functions ---\n",
        "def download_video(youtube_id, output_path, retry=0):\n",
        "    ydl_opts = {\n",
        "        \"format\": \"bestvideo[ext=mp4]+bestaudio[ext=m4a]/best[ext=mp4]/best\",\n",
        "        \"outtmpl\": output_path,\n",
        "        \"quiet\": True,\n",
        "        \"ignoreerrors\": True,\n",
        "        \"extractor_args\": {\"youtube\": {\"skip\": [\"hls\", \"dash\"]}},\n",
        "        \"socket_timeout\": 30,\n",
        "        \"retries\": 3,\n",
        "    }\n",
        "\n",
        "    if COOKIES_FILE:\n",
        "        ydl_opts[\"cookiefile\"] = COOKIES_FILE\n",
        "    if PROXY:\n",
        "        ydl_opts[\"proxy\"] = PROXY\n",
        "\n",
        "    try:\n",
        "        with yt_dlp.YoutubeDL(ydl_opts) as ydl:\n",
        "            ydl.download([f\"https://www.youtube.com/watch?v={youtube_id}\"])\n",
        "        return os.path.exists(output_path)\n",
        "    except Exception as e:\n",
        "        if retry < MAX_RETRIES:\n",
        "            time.sleep(2)\n",
        "            return download_video(youtube_id, output_path, retry + 1)\n",
        "        log_failure(youtube_id, f\"Download failed: {str(e)}\")\n",
        "        return False\n",
        "\n",
        "def process_video_segment(row):\n",
        "    youtube_id, start, end, x, y = row\n",
        "    base_name = f\"{youtube_id}_{start}_{end}\"\n",
        "    audio_path = os.path.join(AUDIO_DIR, f\"{base_name}.wav\")\n",
        "    segment_video_path = os.path.join(VIDEO_DIR, f\"{base_name}.mp4\")\n",
        "    face_dir = os.path.join(FACE_DIR, base_name)\n",
        "    full_video_path = os.path.join(FULL_VIDEO_DIR, f\"{youtube_id}_full.mp4\")\n",
        "\n",
        "    # Skip if already processed\n",
        "    if os.path.exists(audio_path) and os.path.exists(face_dir) and len(os.listdir(face_dir)) > 0:\n",
        "        return True\n",
        "\n",
        "    # Download full video if needed\n",
        "    if not os.path.exists(full_video_path):\n",
        "        if not download_video(youtube_id, full_video_path):\n",
        "            return False\n",
        "\n",
        "    # Extract segment\n",
        "    try:\n",
        "        (\n",
        "            ffmpeg.input(full_video_path, ss=start, to=end)\n",
        "            .output(segment_video_path, c=\"copy\")\n",
        "            .run(quiet=True, overwrite_output=True)\n",
        "        )\n",
        "    except Exception as e:\n",
        "        log_failure(youtube_id, f\"Segment extraction failed: {str(e)}\")\n",
        "        return False\n",
        "\n",
        "    # Extract audio\n",
        "    try:\n",
        "        (\n",
        "            ffmpeg.input(segment_video_path)\n",
        "            .output(audio_path, ac=1, ar=16000, acodec=\"pcm_s16le\")\n",
        "            .run(quiet=True, overwrite_output=True)\n",
        "        )\n",
        "    except Exception as e:\n",
        "        log_failure(youtube_id, f\"Audio extraction failed: {str(e)}\")\n",
        "        return False\n",
        "\n",
        "    # Extract faces\n",
        "    try:\n",
        "        cap = cv2.VideoCapture(segment_video_path)\n",
        "        os.makedirs(face_dir, exist_ok=True)\n",
        "        frame_count = 0\n",
        "        fps = cap.get(cv2.CAP_PROP_FPS)\n",
        "\n",
        "        # Calculate total frames to process (1 face per second)\n",
        "        total_frames = int((float(end) - float(start)) * fps)\n",
        "        frames_to_process = min(total_frames, int(float(end) - float(start)))  # 1 face per second\n",
        "\n",
        "        for frame_num in range(frames_to_process):\n",
        "            # Set frame position\n",
        "            cap.set(cv2.CAP_PROP_POS_FRAMES, frame_num * (total_frames // frames_to_process))\n",
        "\n",
        "            ret, frame = cap.read()\n",
        "            if not ret:\n",
        "                break\n",
        "\n",
        "            h, w = frame.shape[:2]\n",
        "            face_x = int(float(x) * w)\n",
        "            face_y = int(float(y) * h)\n",
        "\n",
        "            # Extract 224x224 face centered at (face_x, face_y)\n",
        "            y1, y2 = max(0, face_y - 112), min(h, face_y + 112)\n",
        "            x1, x2 = max(0, face_x - 112), min(w, face_x + 112)\n",
        "            face = frame[y1:y2, x1:x2]\n",
        "\n",
        "            if face.size == 0:\n",
        "                continue\n",
        "\n",
        "            face = cv2.resize(face, (224, 224))\n",
        "            cv2.imwrite(os.path.join(face_dir, f\"frame_{frame_count:04d}.jpg\"), face)\n",
        "            frame_count += 1\n",
        "\n",
        "        cap.release()\n",
        "        if frame_count == 0:\n",
        "            raise Exception(\"No faces extracted\")\n",
        "    except Exception as e:\n",
        "        log_failure(youtube_id, f\"Face extraction failed: {str(e)}\")\n",
        "        return False\n",
        "\n",
        "    return True\n",
        "\n",
        "# --- Dataset Packaging Function ---\n",
        "def package_dataset(output_zip=\"dataset.zip\"):\n",
        "    \"\"\"Package the processed dataset into a ZIP file\"\"\"\n",
        "    print(\"\\nPackaging dataset...\")\n",
        "    with zipfile.ZipFile(output_zip, 'w', zipfile.ZIP_DEFLATED) as zipf:\n",
        "        for root, dirs, files in os.walk(OUTPUT_DIR):\n",
        "            for file in files:\n",
        "                file_path = os.path.join(root, file)\n",
        "                arcname = os.path.relpath(file_path, start=OUTPUT_DIR)\n",
        "                zipf.write(file_path, arcname=os.path.join(OUTPUT_DIR, arcname))\n",
        "    print(f\"Dataset packaged to {output_zip}\")\n",
        "    return output_zip\n",
        "\n",
        "# --- Main Execution ---\n",
        "if __name__ == \"__main__\":\n",
        "    # Clear previous log\n",
        "    with open(LOG_FILE, \"w\") as f:\n",
        "        f.write(\"youtube_id,reason\\n\")\n",
        "\n",
        "    # Load and prepare data\n",
        "    df = pd.read_csv(CSV_PATH, header=None)\n",
        "    df.columns = [\"youtube_id\", \"start\", \"end\", \"x\", \"y\"]\n",
        "    rows_list = list(df.itertuples(index=False, name=None))\n",
        "\n",
        "    # Process with multiprocessing\n",
        "    print(f\"Starting processing with {WORKERS} workers...\")\n",
        "    with Pool(WORKERS) as pool:\n",
        "        results = list(tqdm(\n",
        "            pool.imap(process_video_segment, rows_list),\n",
        "            total=len(rows_list),\n",
        "            unit=\"video\"\n",
        "        ))\n",
        "\n",
        "    # Generate report\n",
        "    success = sum(results)\n",
        "    failure = len(results) - success\n",
        "\n",
        "    # Package the dataset\n",
        "    zip_path = package_dataset()\n",
        "\n",
        "    # Final report\n",
        "    print(\"\\nProcessing complete!\")\n",
        "    print(f\"Successfully processed: {success} videos\")\n",
        "    print(f\"Failed: {failure} videos (see {LOG_FILE})\")\n",
        "    print(f\"\\nDataset components:\")\n",
        "    print(f\"- Audio files: {AUDIO_DIR}\")\n",
        "    print(f\"- Video segments: {VIDEO_DIR}\")\n",
        "    print(f\"- Face crops: {FACE_DIR}\")\n",
        "    print(f\"- Full videos: {FULL_VIDEO_DIR}\")\n",
        "    print(f\"\\nComplete dataset packaged at: {zip_path}\")"
      ],
      "metadata": {
        "colab": {
          "base_uri": "https://localhost:8080/"
        },
        "id": "Xl88lQsg4Q8y",
        "outputId": "accf4285-2a25-484f-dce3-10f1855c395b"
      },
      "execution_count": null,
      "outputs": [
        {
          "output_type": "stream",
          "name": "stdout",
          "text": [
            "Starting processing with 1 workers...\n"
          ]
        },
        {
          "output_type": "stream",
          "name": "stderr",
          "text": [
            "\r  0%|          | 0/50 [00:00<?, ?video/s]ERROR: [youtube] u5MPyrRJPmc: The uploader has not made this video available in your country\n",
            "This video is available in Andorra, United Arab Emirates, Afghanistan, Antigua and Barbuda, Anguilla, Albania, Armenia, Angola, Antarctica, Argentina, American Samoa, Austria, Australia, Aruba, Åland Islands, Azerbaijan, Bosnia and Herzegovina, Barbados, Bangladesh, Belgium, Burkina Faso, Bulgaria, Bahrain, Burundi, Benin, Saint Barthélemy, Bermuda, Brunei Darussalam, Bolivia, Plurinational State of, Bonaire, Sint Eustatius and Saba, Brazil, Bahamas, Bhutan, Bouvet Island, Botswana, Belarus, Belize, Canada, Cocos (Keeling) Islands, Congo, the Democratic Republic of the, Central African Republic, Congo, Switzerland, Côte d'Ivoire, Cook Islands, Chile, Cameroon, China, Colombia, Costa Rica, Cuba, Cape Verde, Curaçao, Christmas Island, Cyprus, Czech Republic, Germany, Djibouti, Denmark, Dominica, Dominican Republic, Algeria, Ecuador, Estonia, Egypt, Western Sahara, Eritrea, Spain, Ethiopia, Finland, Fiji, Falkland Islands (Malvinas), Micronesia, Federated States of, Faroe Islands, France, Gabon, United Kingdom, Grenada, Georgia, French Guiana, Guernsey, Ghana, Gibraltar, Greenland, Gambia, Guinea, Guadeloupe, Equatorial Guinea, Greece, South Georgia and the South Sandwich Islands, Guatemala, Guam, Guinea-Bissau, Guyana, Hong Kong, Heard Island and McDonald Islands, Honduras, Croatia, Haiti, Hungary, Indonesia, Ireland, Israel, Isle of Man, India, British Indian Ocean Territory, Iraq, Iran, Islamic Republic of, Iceland, Italy, Jersey, Jamaica, Jordan, Japan, Kenya, Kyrgyzstan, Cambodia, Kiribati, Comoros, Saint Kitts and Nevis, Korea, Democratic People's Republic of, Korea, Republic of, Kuwait, Cayman Islands, Kazakhstan, Lao People's Democratic Republic, Lebanon, Saint Lucia, Liechtenstein, Sri Lanka, Liberia, Lesotho, Lithuania, Luxembourg, Latvia, Libya, Morocco, Monaco, Moldova, Republic of, Montenegro, Saint Martin (French part), Madagascar, Marshall Islands, Macedonia, the Former Yugoslav Republic of, Mali, Myanmar, Mongolia, Macao, Northern Mariana Islands, Martinique, Mauritania, Montserrat, Malta, Mauritius, Maldives, Malawi, Mexico, Malaysia, Mozambique, Namibia, New Caledonia, Niger, Norfolk Island, Nigeria, Nicaragua, Netherlands, Norway, Nepal, Nauru, Niue, New Zealand, Oman, Panama, Peru, French Polynesia, Papua New Guinea, Philippines, Pakistan, Poland, Saint Pierre and Miquelon, Pitcairn, Puerto Rico, Palestine, State of, Portugal, Palau, Paraguay, Qatar, Réunion, Romania, Serbia, Russian Federation, Rwanda, Saudi Arabia, Solomon Islands, Seychelles, Sudan, Sweden, Singapore, Saint Helena, Ascension and Tristan da Cunha, Slovenia, Svalbard and Jan Mayen, Slovakia, Sierra Leone, San Marino, Senegal, Somalia, Suriname, South Sudan, Sao Tome and Principe, El Salvador, Sint Maarten (Dutch part), Syrian Arab Republic, Swaziland, Turks and Caicos Islands, Chad, French Southern Territories, Togo, Thailand, Tajikistan, Tokelau, Timor-Leste, Turkmenistan, Tunisia, Tonga, Turkey, Trinidad and Tobago, Tuvalu, Taiwan, Province of China, Tanzania, United Republic of, Ukraine, Uganda, United States Minor Outlying Islands, Uruguay, Uzbekistan, Holy See (Vatican City State), Saint Vincent and the Grenadines, Venezuela, Bolivarian Republic of, Virgin Islands, British, Virgin Islands, U.S., Viet Nam, Vanuatu, Wallis and Futuna, Samoa, Yemen, Mayotte, South Africa, Zambia, Zimbabwe.\n",
            "You might want to use a VPN or a proxy server (with --proxy) to workaround.\n",
            "  2%|▏         | 1/50 [00:02<02:11,  2.68s/video]ERROR: [youtube:truncated_id] nan: Incomplete YouTube ID nan. URL https://www.youtube.com/watch?v=nan looks truncated.\n",
            "  6%|▌         | 3/50 [00:03<00:42,  1.11video/s]ERROR: [youtube] VvcwAGkSy2o: Sign in to confirm your age. This video may be inappropriate for some users. Use --cookies-from-browser or --cookies for the authentication. See  https://github.com/yt-dlp/yt-dlp/wiki/FAQ#how-do-i-pass-cookies-to-yt-dlp  for how to manually pass cookies. Also see  https://github.com/yt-dlp/yt-dlp/wiki/Extractors#exporting-youtube-cookies  for tips on effectively exporting YouTube cookies\n",
            " 10%|█         | 5/50 [00:05<00:45,  1.01s/video]"
          ]
        },
        {
          "output_type": "stream",
          "name": "stdout",
          "text": []
        },
        {
          "output_type": "stream",
          "name": "stderr",
          "text": [
            "\r 16%|█▌        | 8/50 [00:20<02:09,  3.08s/video]"
          ]
        },
        {
          "output_type": "stream",
          "name": "stdout",
          "text": []
        },
        {
          "output_type": "stream",
          "name": "stderr",
          "text": [
            "\r 18%|█▊        | 9/50 [00:40<04:27,  6.51s/video]"
          ]
        },
        {
          "output_type": "stream",
          "name": "stdout",
          "text": []
        },
        {
          "output_type": "stream",
          "name": "stderr",
          "text": [
            " 20%|██        | 10/50 [00:52<05:09,  7.74s/video]ERROR: [youtube] SGJz8ysQXlQ: Private video. Sign in if you've been granted access to this video. Use --cookies-from-browser or --cookies for the authentication. See  https://github.com/yt-dlp/yt-dlp/wiki/FAQ#how-do-i-pass-cookies-to-yt-dlp  for how to manually pass cookies. Also see  https://github.com/yt-dlp/yt-dlp/wiki/Extractors#exporting-youtube-cookies  for tips on effectively exporting YouTube cookies\n",
            " 22%|██▏       | 11/50 [00:53<03:57,  6.09s/video]"
          ]
        },
        {
          "output_type": "stream",
          "name": "stdout",
          "text": []
        },
        {
          "output_type": "stream",
          "name": "stderr",
          "text": [
            "\r 24%|██▍       | 12/50 [01:03<04:26,  7.01s/video]"
          ]
        },
        {
          "output_type": "stream",
          "name": "stdout",
          "text": []
        },
        {
          "output_type": "stream",
          "name": "stderr",
          "text": [
            " 26%|██▌       | 13/50 [01:11<04:34,  7.42s/video]ERROR: [youtube] qBXZwYjeNAw: Private video. Sign in if you've been granted access to this video. Use --cookies-from-browser or --cookies for the authentication. See  https://github.com/yt-dlp/yt-dlp/wiki/FAQ#how-do-i-pass-cookies-to-yt-dlp  for how to manually pass cookies. Also see  https://github.com/yt-dlp/yt-dlp/wiki/Extractors#exporting-youtube-cookies  for tips on effectively exporting YouTube cookies\n",
            " 28%|██▊       | 14/50 [01:12<03:22,  5.63s/video]"
          ]
        },
        {
          "output_type": "stream",
          "name": "stdout",
          "text": []
        },
        {
          "output_type": "stream",
          "name": "stderr",
          "text": [
            "\r 30%|███       | 15/50 [01:27<04:44,  8.12s/video]"
          ]
        },
        {
          "output_type": "stream",
          "name": "stdout",
          "text": []
        },
        {
          "output_type": "stream",
          "name": "stderr",
          "text": [
            "\r 32%|███▏      | 16/50 [01:39<05:18,  9.36s/video]"
          ]
        },
        {
          "output_type": "stream",
          "name": "stdout",
          "text": []
        },
        {
          "output_type": "stream",
          "name": "stderr",
          "text": [
            "\r 34%|███▍      | 17/50 [02:01<07:12, 13.09s/video]"
          ]
        },
        {
          "output_type": "stream",
          "name": "stdout",
          "text": []
        },
        {
          "output_type": "stream",
          "name": "stderr",
          "text": [
            "\r 36%|███▌      | 18/50 [02:20<07:53, 14.79s/video]"
          ]
        },
        {
          "output_type": "stream",
          "name": "stdout",
          "text": []
        },
        {
          "output_type": "stream",
          "name": "stderr",
          "text": [
            "\r 38%|███▊      | 19/50 [02:35<07:40, 14.84s/video]"
          ]
        },
        {
          "output_type": "stream",
          "name": "stdout",
          "text": []
        },
        {
          "output_type": "stream",
          "name": "stderr",
          "text": [
            " 40%|████      | 20/50 [02:48<07:08, 14.29s/video]ERROR: [youtube] mbbYk4d_6AY: Private video. Sign in if you've been granted access to this video. Use --cookies-from-browser or --cookies for the authentication. See  https://github.com/yt-dlp/yt-dlp/wiki/FAQ#how-do-i-pass-cookies-to-yt-dlp  for how to manually pass cookies. Also see  https://github.com/yt-dlp/yt-dlp/wiki/Extractors#exporting-youtube-cookies  for tips on effectively exporting YouTube cookies\n",
            " 42%|████▏     | 21/50 [02:49<04:59, 10.33s/video]"
          ]
        },
        {
          "output_type": "stream",
          "name": "stdout",
          "text": []
        },
        {
          "output_type": "stream",
          "name": "stderr",
          "text": [
            "\r 44%|████▍     | 22/50 [03:01<05:00, 10.72s/video]"
          ]
        },
        {
          "output_type": "stream",
          "name": "stdout",
          "text": []
        },
        {
          "output_type": "stream",
          "name": "stderr",
          "text": [
            "\r 46%|████▌     | 23/50 [03:10<04:41, 10.41s/video]"
          ]
        },
        {
          "output_type": "stream",
          "name": "stdout",
          "text": []
        },
        {
          "output_type": "stream",
          "name": "stderr",
          "text": [
            "\r 48%|████▊     | 24/50 [03:20<04:26, 10.23s/video]"
          ]
        },
        {
          "output_type": "stream",
          "name": "stdout",
          "text": []
        },
        {
          "output_type": "stream",
          "name": "stderr",
          "text": [
            "\r 50%|█████     | 25/50 [03:31<04:23, 10.55s/video]"
          ]
        },
        {
          "output_type": "stream",
          "name": "stdout",
          "text": []
        },
        {
          "output_type": "stream",
          "name": "stderr",
          "text": [
            " 52%|█████▏    | 26/50 [03:40<03:59,  9.98s/video]ERROR: [youtube] 3foAjdMgqt0: Private video. Sign in if you've been granted access to this video. Use --cookies-from-browser or --cookies for the authentication. See  https://github.com/yt-dlp/yt-dlp/wiki/FAQ#how-do-i-pass-cookies-to-yt-dlp  for how to manually pass cookies. Also see  https://github.com/yt-dlp/yt-dlp/wiki/Extractors#exporting-youtube-cookies  for tips on effectively exporting YouTube cookies\n",
            " 54%|█████▍    | 27/50 [03:41<02:47,  7.27s/video]"
          ]
        },
        {
          "output_type": "stream",
          "name": "stdout",
          "text": []
        },
        {
          "output_type": "stream",
          "name": "stderr",
          "text": [
            "\r 56%|█████▌    | 28/50 [04:07<04:44, 12.95s/video]"
          ]
        },
        {
          "output_type": "stream",
          "name": "stdout",
          "text": []
        },
        {
          "output_type": "stream",
          "name": "stderr",
          "text": [
            "\r 58%|█████▊    | 29/50 [04:14<03:53, 11.12s/video]"
          ]
        },
        {
          "output_type": "stream",
          "name": "stdout",
          "text": []
        },
        {
          "output_type": "stream",
          "name": "stderr",
          "text": [
            "\r 60%|██████    | 30/50 [04:24<03:33, 10.66s/video]"
          ]
        },
        {
          "output_type": "stream",
          "name": "stdout",
          "text": []
        },
        {
          "output_type": "stream",
          "name": "stderr",
          "text": [
            " 62%|██████▏   | 31/50 [04:29<02:50,  8.97s/video]ERROR: [youtube] BrDNUMkmsSI: Video unavailable\n",
            " 64%|██████▍   | 32/50 [04:30<01:57,  6.52s/video]ERROR: [youtube] YExC6Y31ZeM: Private video. Sign in if you've been granted access to this video. Use --cookies-from-browser or --cookies for the authentication. See  https://github.com/yt-dlp/yt-dlp/wiki/FAQ#how-do-i-pass-cookies-to-yt-dlp  for how to manually pass cookies. Also see  https://github.com/yt-dlp/yt-dlp/wiki/Extractors#exporting-youtube-cookies  for tips on effectively exporting YouTube cookies\n",
            " 66%|██████▌   | 33/50 [04:30<01:21,  4.82s/video]"
          ]
        },
        {
          "output_type": "stream",
          "name": "stdout",
          "text": []
        },
        {
          "output_type": "stream",
          "name": "stderr",
          "text": [
            "\r 68%|██████▊   | 34/50 [04:38<01:30,  5.67s/video]"
          ]
        },
        {
          "output_type": "stream",
          "name": "stdout",
          "text": []
        },
        {
          "output_type": "stream",
          "name": "stderr",
          "text": [
            "\r 70%|███████   | 35/50 [04:58<02:30, 10.04s/video]"
          ]
        },
        {
          "output_type": "stream",
          "name": "stdout",
          "text": []
        },
        {
          "output_type": "stream",
          "name": "stderr",
          "text": [
            "\r 72%|███████▏  | 36/50 [05:24<03:25, 14.67s/video]"
          ]
        },
        {
          "output_type": "stream",
          "name": "stdout",
          "text": []
        },
        {
          "output_type": "stream",
          "name": "stderr",
          "text": [
            "\r 74%|███████▍  | 37/50 [05:37<03:06, 14.32s/video]"
          ]
        },
        {
          "output_type": "stream",
          "name": "stdout",
          "text": []
        },
        {
          "output_type": "stream",
          "name": "stderr",
          "text": [
            "\r 76%|███████▌  | 38/50 [05:45<02:28, 12.34s/video]"
          ]
        },
        {
          "output_type": "stream",
          "name": "stdout",
          "text": []
        },
        {
          "output_type": "stream",
          "name": "stderr",
          "text": [
            "\r 78%|███████▊  | 39/50 [05:58<02:19, 12.69s/video]"
          ]
        },
        {
          "output_type": "stream",
          "name": "stdout",
          "text": []
        },
        {
          "output_type": "stream",
          "name": "stderr",
          "text": [
            " 80%|████████  | 40/50 [06:11<02:05, 12.56s/video]ERROR: [youtube] MoesGmkODgY: Video unavailable. This video is no longer available because the YouTube account associated with this video has been terminated.\n",
            " 82%|████████▏ | 41/50 [06:12<01:21,  9.09s/video]"
          ]
        },
        {
          "output_type": "stream",
          "name": "stdout",
          "text": []
        },
        {
          "output_type": "stream",
          "name": "stderr",
          "text": [
            "\r 84%|████████▍ | 42/50 [06:21<01:13,  9.23s/video]"
          ]
        },
        {
          "output_type": "stream",
          "name": "stdout",
          "text": []
        },
        {
          "output_type": "stream",
          "name": "stderr",
          "text": [
            "\r 86%|████████▌ | 43/50 [06:35<01:13, 10.45s/video]"
          ]
        },
        {
          "output_type": "stream",
          "name": "stdout",
          "text": []
        },
        {
          "output_type": "stream",
          "name": "stderr",
          "text": [
            "\r 88%|████████▊ | 44/50 [06:43<00:58,  9.72s/video]"
          ]
        },
        {
          "output_type": "stream",
          "name": "stdout",
          "text": []
        },
        {
          "output_type": "stream",
          "name": "stderr",
          "text": [
            "\r 90%|█████████ | 45/50 [06:55<00:52, 10.44s/video]"
          ]
        },
        {
          "output_type": "stream",
          "name": "stdout",
          "text": []
        },
        {
          "output_type": "stream",
          "name": "stderr",
          "text": [
            "\r 92%|█████████▏| 46/50 [07:03<00:39,  9.76s/video]"
          ]
        },
        {
          "output_type": "stream",
          "name": "stdout",
          "text": []
        },
        {
          "output_type": "stream",
          "name": "stderr",
          "text": [
            "\r 94%|█████████▍| 47/50 [07:11<00:27,  9.13s/video]"
          ]
        },
        {
          "output_type": "stream",
          "name": "stdout",
          "text": []
        },
        {
          "output_type": "stream",
          "name": "stderr",
          "text": [
            " 96%|█████████▌| 48/50 [07:20<00:18,  9.32s/video]ERROR: [youtube] HMGg-84WPAQ: Private video. Sign in if you've been granted access to this video. Use --cookies-from-browser or --cookies for the authentication. See  https://github.com/yt-dlp/yt-dlp/wiki/FAQ#how-do-i-pass-cookies-to-yt-dlp  for how to manually pass cookies. Also see  https://github.com/yt-dlp/yt-dlp/wiki/Extractors#exporting-youtube-cookies  for tips on effectively exporting YouTube cookies\n",
            " 98%|█████████▊| 49/50 [07:21<00:06,  6.78s/video]"
          ]
        },
        {
          "output_type": "stream",
          "name": "stdout",
          "text": []
        },
        {
          "output_type": "stream",
          "name": "stderr",
          "text": [
            "100%|██████████| 50/50 [07:48<00:00,  9.37s/video]\n"
          ]
        },
        {
          "output_type": "stream",
          "name": "stdout",
          "text": [
            "\n",
            "Packaging dataset...\n",
            "Dataset packaged to dataset.zip\n",
            "\n",
            "Processing complete!\n",
            "Successfully processed: 39 videos\n",
            "Failed: 11 videos (see failed_downloads.log)\n",
            "\n",
            "Dataset components:\n",
            "- Audio files: dataset/audio\n",
            "- Video segments: dataset/video\n",
            "- Face crops: dataset/faces\n",
            "- Full videos: dataset/full_videos\n",
            "\n",
            "Complete dataset packaged at: dataset.zip\n"
          ]
        }
      ]
    },
    {
      "cell_type": "code",
      "source": [
        "from google.colab import files\n",
        "import os\n",
        "\n",
        "# Path to your dataset zip file (same as created in previous step)\n",
        "ZIP_PATH = \"dataset.zip\"\n",
        "\n",
        "def download_dataset():\n",
        "    # Verify the zip file exists\n",
        "    if not os.path.exists(ZIP_PATH):\n",
        "        raise FileNotFoundError(f\"Dataset zip file not found at {ZIP_PATH}\")\n",
        "\n",
        "    # For Google Colab\n",
        "    try:\n",
        "        from google.colab import files\n",
        "        print(\"Downloading dataset from Google Colab...\")\n",
        "        files.download(ZIP_PATH)\n",
        "        return True\n",
        "    except:\n",
        "        pass\n",
        "\n",
        "    # For local Python environment\n",
        "    try:\n",
        "        import webbrowser\n",
        "        import urllib.parse\n",
        "        print(\"Opening dataset in browser for download...\")\n",
        "        webbrowser.open(f\"file://{urllib.parse.quote(os.path.abspath(ZIP_PATH))}\")\n",
        "        return True\n",
        "    except:\n",
        "        pass\n",
        "\n",
        "    # Fallback - just print the path\n",
        "    print(f\"Couldn't initiate automatic download. Please manually download from: {os.path.abspath(ZIP_PATH)}\")\n",
        "    return False\n",
        "\n",
        "# Add this at the end of your main script (after packaging)\n",
        "if __name__ == \"__main__\":\n",
        "    # ... [your existing code] ...\n",
        "\n",
        "    # After packaging isa complete\n",
        "    print(\"\\nWould you like to download the dataset now? (y/n)\")\n",
        "    response = input().strip().lower()\n",
        "    if response == 'y':\n",
        "        if download_dataset():\n",
        "            print(\"Download initiated successfully!\")\n",
        "        else:\n",
        "            print(\"Could not initiate automatic download. Please check the file path.\")"
      ],
      "metadata": {
        "colab": {
          "base_uri": "https://localhost:8080/",
          "height": 121
        },
        "id": "8ZHbhDYh9Pm6",
        "outputId": "50d96d9c-a54f-4d9a-edba-f9595f2b0a18"
      },
      "execution_count": null,
      "outputs": [
        {
          "output_type": "stream",
          "name": "stdout",
          "text": [
            "\n",
            "Would you like to download the dataset now? (y/n)\n",
            "y\n",
            "Downloading dataset from Google Colab...\n"
          ]
        },
        {
          "output_type": "display_data",
          "data": {
            "text/plain": [
              "<IPython.core.display.Javascript object>"
            ],
            "application/javascript": [
              "\n",
              "    async function download(id, filename, size) {\n",
              "      if (!google.colab.kernel.accessAllowed) {\n",
              "        return;\n",
              "      }\n",
              "      const div = document.createElement('div');\n",
              "      const label = document.createElement('label');\n",
              "      label.textContent = `Downloading \"${filename}\": `;\n",
              "      div.appendChild(label);\n",
              "      const progress = document.createElement('progress');\n",
              "      progress.max = size;\n",
              "      div.appendChild(progress);\n",
              "      document.body.appendChild(div);\n",
              "\n",
              "      const buffers = [];\n",
              "      let downloaded = 0;\n",
              "\n",
              "      const channel = await google.colab.kernel.comms.open(id);\n",
              "      // Send a message to notify the kernel that we're ready.\n",
              "      channel.send({})\n",
              "\n",
              "      for await (const message of channel.messages) {\n",
              "        // Send a message to notify the kernel that we're ready.\n",
              "        channel.send({})\n",
              "        if (message.buffers) {\n",
              "          for (const buffer of message.buffers) {\n",
              "            buffers.push(buffer);\n",
              "            downloaded += buffer.byteLength;\n",
              "            progress.value = downloaded;\n",
              "          }\n",
              "        }\n",
              "      }\n",
              "      const blob = new Blob(buffers, {type: 'application/binary'});\n",
              "      const a = document.createElement('a');\n",
              "      a.href = window.URL.createObjectURL(blob);\n",
              "      a.download = filename;\n",
              "      div.appendChild(a);\n",
              "      a.click();\n",
              "      div.remove();\n",
              "    }\n",
              "  "
            ]
          },
          "metadata": {}
        },
        {
          "output_type": "display_data",
          "data": {
            "text/plain": [
              "<IPython.core.display.Javascript object>"
            ],
            "application/javascript": [
              "download(\"download_2078d682-0f30-4844-9131-a1aa575a8359\", \"dataset.zip\", 4908669731)"
            ]
          },
          "metadata": {}
        },
        {
          "output_type": "stream",
          "name": "stdout",
          "text": [
            "Download initiated successfully!\n"
          ]
        }
      ]
    }
  ]
}