{
  "nbformat": 4,
  "nbformat_minor": 0,
  "metadata": {
    "colab": {
      "provenance": [],
      "mount_file_id": "1CXcNVbIy4GUxEpBHJRs5XZS-itymsz-e",
      "authorship_tag": "ABX9TyOEDWzE/cXd9UoTU6o3Ly7S",
      "include_colab_link": true
    },
    "kernelspec": {
      "name": "python3",
      "display_name": "Python 3"
    },
    "language_info": {
      "name": "python"
    }
  },
  "cells": [
    {
      "cell_type": "markdown",
      "metadata": {
        "id": "view-in-github",
        "colab_type": "text"
      },
      "source": [
        "<a href=\"https://colab.research.google.com/github/muhammadnouman911/Dataset-Preprocessing/blob/main/Untitled2.ipynb\" target=\"_parent\"><img src=\"https://colab.research.google.com/assets/colab-badge.svg\" alt=\"Open In Colab\"/></a>"
      ]
    },
    {
      "cell_type": "code",
      "execution_count": null,
      "metadata": {
        "colab": {
          "base_uri": "https://localhost:8080/"
        },
        "id": "c7KE-SarAwfZ",
        "outputId": "f896a5da-0cf6-480b-81b4-76d31db7f1db"
      },
      "outputs": [
        {
          "output_type": "stream",
          "name": "stdout",
          "text": [
            "CSV saved as pairs.csv with 37 rows\n"
          ]
        }
      ],
      "source": [
        "import os\n",
        "import pandas as pd\n",
        "\n",
        "faces_dir = \"/content/drive/MyDrive/dataset/faces\"\n",
        "audio_dir = \"/content/drive/MyDrive/dataset/audio\"\n",
        "\n",
        "face_files = sorted(os.listdir(faces_dir))\n",
        "audio_files = sorted(os.listdir(audio_dir))\n",
        "\n",
        "pairs = []\n",
        "\n",
        "# assuming same length and same naming (001.jpg ↔ 001.wav)\n",
        "for face, audio in zip(face_files, audio_files):\n",
        "    face_path = os.path.join(faces_dir, face)\n",
        "    audio_path = os.path.join(audio_dir, audio)\n",
        "    pairs.append([audio_path, face_path])\n",
        "\n",
        "df = pd.DataFrame(pairs, columns=[\"audio_path\", \"face_path\"])\n",
        "df.to_csv(\"pairs.csv\", index=False)\n",
        "\n",
        "print(\"CSV saved as pairs.csv with\", len(df), \"rows\")\n"
      ]
    },
    {
      "cell_type": "code",
      "source": [],
      "metadata": {
        "id": "0t67GuUgBO5r"
      },
      "execution_count": null,
      "outputs": []
    }
  ]
}